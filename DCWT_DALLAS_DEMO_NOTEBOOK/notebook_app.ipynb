{
 "metadata": {
  "kernelspec": {
   "display_name": "Streamlit Notebook",
   "name": "streamlit"
  }
 },
 "nbformat_minor": 5,
 "nbformat": 4,
 "cells": [
  {
   "cell_type": "markdown",
   "id": "042632c3-4611-4302-a60b-f316433d5ca3",
   "metadata": {
    "name": "Intro",
    "collapsed": false
   },
   "source": "# Welcome to :snowflake: Snowflake Notebooks :notebook:\n\nCombine SQL and python in new ways to bring \nyour data analysis to the next level ⚡️\n\nThis tutorial will demo a few ways to use Snowflake Notebooks including:\n- Instant connection and authentication\n- SQL analysis\n- SQL and Python interwoven together\n- Pandas and data vizualization in Altair\n- Streamlit interactivity\n---\n## Fast Connection and Authentication ⚡️\n\nClick the start button takes a few seconds to connect and then we're fully authenticated and set up -- ready to query our data!\n\n---\n## Chaining SQL cells together\nIt's really easy to keep working and iterating on a query by \nsimply referencing the previous query in the `FROM` clause.\n\n```sql\n-- Subquery a SQL call\nSELECT * FROM {{cell1}} where VAR = 9\n```\n\n## SQL and python references\nTo convert a SQL table into python\ncell you can use the `cellX.to_pandas()` call. \n```python\n# Convert a SQL cell into a pandas dataframe\nmy_df = cell1.to_pandas()\n``` \nLikewise, you can use python variable names in SQL directly.\n```sql\n-- use a Pandas dataframe within SQL\nSELECT * FROM my_data where VAR = {{my_python_value}}\n```\n---\n## Beautiful charts are ready to go with Altair, Plotly, or Matplotlib 📊\nJust install whichever charting packages you like most and use them directly in the notebook.\n\n---\n## Supercharged interactivity with Streamlit 🔋\nWe can use Streamlit input functions like `st.slider` or `st.date_input` to make our notebook more friendly to play with.\n\n---\n## Keyboard Shortcuts\nThese can help you navigate around your notebook more quickly\n| Command | Shortcut |\n| --- | ----------- |\n| **Run this cell and advance** | SHIFT + ENTER |\n| **Run this cell only** | CMD + ENTER |\n| **Run all cells** | CMD + SHIFT + ENTER |\n| **Add cell BELOW** | b |\n| **Add cell ABOVE** | a |\n| **Search/Replace** | CMD + F|\n"
  },
  {
   "cell_type": "code",
   "id": "6a0e0b19-3122-49a7-97b3-b17bd76911bc",
   "metadata": {
    "language": "python",
    "name": "imports",
    "collapsed": false,
    "codeCollapsed": false
   },
   "outputs": [],
   "source": "import streamlit as st\nimport pandas as pd\nimport altair as alt\nfrom snowflake.snowpark.context import get_active_session\n\nst.write(\"imports ready!\")",
   "execution_count": null
  },
  {
   "cell_type": "markdown",
   "id": "a62ffbe3-541d-4341-9eb3-3a3864f457ba",
   "metadata": {
    "name": "first_sql",
    "collapsed": false
   },
   "source": "### :snowflake: Example Movie Analysis Notebook :notebook:\nIn this notebook, we will query some example data and do\na variety of manipulations to show you the ropes 🪢\n\nTo start off, let's query some movie data from the `samples` database "
  },
  {
   "cell_type": "code",
   "id": "a68d1505-dd4a-43c6-9b73-7a2e2571e046",
   "metadata": {
    "language": "sql",
    "name": "query_data",
    "collapsed": false,
    "codeCollapsed": false
   },
   "source": "-- You can query Snowflake directly with SQL. \nselect  \n    movies.movieid, \n    title,  \n    avg(rating) as avg_rating \nfrom samples.movielens.movies movies\nleft join samples.movielens.ratings ratings\n    on movies.movieid = ratings.movieid\n    and movies.movieid < 10000\ngroup by 1,2\nhaving avg_rating > 0 \norder by avg_rating asc;   ",
   "execution_count": null,
   "outputs": []
  },
  {
   "cell_type": "code",
   "id": "13bd60ec-d402-4a39-ba96-bada63b687a0",
   "metadata": {
    "language": "sql",
    "name": "sql_chain",
    "collapsed": false,
    "codeCollapsed": false
   },
   "outputs": [],
   "source": "select * from {{query_data}} where avg_rating > 4",
   "execution_count": null
  },
  {
   "cell_type": "code",
   "id": "c390082a-67cb-4c4d-9315-3f22ce281680",
   "metadata": {
    "language": "python",
    "name": "side_by_side",
    "collapsed": false
   },
   "outputs": [],
   "source": "col1, col2 = st.columns(2)\n\nwith col1:\n    st.subheader(\"Original Data\")\n    st.dataframe(query_data.to_pandas())\nwith col2:\n    st.subheader(\"Filtered Data\")\n    st.dataframe(sql_chain.to_pandas())\n\n# col1, col2 = st.columns(2)\n# with col1:\n#     st.dataframe(query_data.to_pandas())\n# with col2:\n#     st.header(\"Filtered Data for AVG_RATING > 4\")\n#     st.dataframe(sql_chain.to_pandas())",
   "execution_count": null
  },
  {
   "cell_type": "code",
   "id": "c3272c41-d0b5-4641-80b1-b530f93e649c",
   "metadata": {
    "language": "python",
    "name": "altair",
    "collapsed": false,
    "codeCollapsed": false
   },
   "source": "# We can easily make charts using this data!\nst.markdown(\"## :bar_chart: Let's make a couple of contrasting charts to compare the data\")\n\ndef altair_chart(movie_df, color):\n    '''Create an altair chart for our movie data'''\n\n    # Convert the types to floats\n    movie_df['AVG_RATING'] = movie_df['AVG_RATING'].astype('float')\n    \n    # Make the chart\n    movie_chart = alt.Chart(movie_df).mark_bar(color = color).encode(\n        alt.X(\"AVG_RATING:Q\", bin=True),\n        y='count()',\n    ) \n    st.altair_chart(movie_chart, use_container_width=True)\n\n\ncol1, col2 = st.columns(2)\nwith col1:\n    st.subheader(\"Original Data\")\n    movie_df = pd.DataFrame(query_data.to_pandas())\n    altair_chart(movie_df, '#9abae1')\nwith col2:\n    st.subheader(\"Filtered Data\")\n    filtered_df = pd.DataFrame(sql_chain.to_pandas())\n    altair_chart(filtered_df, '#237e76')",
   "execution_count": null,
   "outputs": []
  },
  {
   "cell_type": "code",
   "id": "233495b0-9308-482b-a16d-4931db745b27",
   "metadata": {
    "language": "python",
    "name": "movie_search",
    "collapsed": false,
    "codeCollapsed": false
   },
   "source": "st.markdown(\"# :hand: Streamlit interactivity \")\nst.markdown(\"Let's search for a movie title and see if we can find it!\")\nmovie_search_term = st.text_input(\"Enter a movie title term\", \"snow\")",
   "execution_count": null,
   "outputs": []
  },
  {
   "cell_type": "code",
   "id": "a7a93c94-ae3e-4712-9da9-c6e2327c1de4",
   "metadata": {
    "language": "sql",
    "name": "filtered_movies",
    "collapsed": false,
    "codeCollapsed": false
   },
   "source": "select * from {{query_data}} where title ilike '%{{movie_search_term}}%' ",
   "execution_count": null,
   "outputs": []
  },
  {
   "cell_type": "markdown",
   "id": "50cf2709-3dc5-4525-99df-ba5d18a57a46",
   "metadata": {
    "name": "finished",
    "collapsed": false
   },
   "source": "## :white_check_mark: In summary, we saw\n- Instant connection and authentication\n- SQL and Python interwoven together\n- Chaining SQL queries\n- Pandas and data vizualization in Altair\n- Streamlit Interactivity\n\n### Try it out yourself and show off what you can build ❄️"
  }
 ]
}